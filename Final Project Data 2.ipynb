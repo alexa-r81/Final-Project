{
 "cells": [
  {
   "cell_type": "code",
   "execution_count": 1,
   "id": "ecf57ef5",
   "metadata": {},
   "outputs": [],
   "source": [
    "#data source: \n",
    "\n",
    "#CODEBOOK: \n",
    "    #RACE               Race/ethnicity of respondent\n",
    "\n",
    "           #1 = white non-Hispanic\n",
    "           #2 = black / African American\n",
    "           #3 = Hispanic\n",
    "           #5 = Other"
   ]
  },
  {
   "cell_type": "code",
   "execution_count": 2,
   "id": "49ca50a1",
   "metadata": {},
   "outputs": [],
   "source": [
    "# Import the necessary modules\n",
    "import matplotlib.pyplot as plt\n",
    "import pandas as pd"
   ]
  },
  {
   "cell_type": "code",
   "execution_count": 5,
   "id": "16324ef0",
   "metadata": {},
   "outputs": [
    {
     "data": {
      "image/png": "[encoded data removed]",
      "text/plain": [
       "<Figure size 432x288 with 1 Axes>"
      ]
     },
     "metadata": {
      "needs_background": "light"
     },
     "output_type": "display_data"
    }
   ],
   "source": [
    "#make bar chart\n",
    "data = pd.read_csv('race-networth.csv')\n",
    "df = pd.DataFrame(data)\n",
    "X = list(df.iloc[:, 0])\n",
    "Y = list(df.iloc[:, 1])\n",
    "# Plot the data using bar() method\n",
    "plt.bar(X, Y, color= 'pink')\n",
    "plt.title('race and networth')\n",
    "plt.xlabel('race')\n",
    "plt.ylabel('networth')\n",
    "plt.show()"
   ]
  },
  {
   "cell_type": "code",
   "execution_count": null,
   "id": "2390923e",
   "metadata": {},
   "outputs": [],
   "source": []
  }
 ],
 "metadata": {
  "kernelspec": {
   "display_name": "Python 3 (ipykernel)",
   "language": "python",
   "name": "python3"
  },
  "language_info": {
   "codemirror_mode": {
    "name": "ipython",
    "version": 3
   },
   "file_extension": ".py",
   "mimetype": "text/x-python",
   "name": "python",
   "nbconvert_exporter": "python",
   "pygments_lexer": "ipython3",
   "version": "3.9.12"
  }
 },
 "nbformat": 4,
 "nbformat_minor": 5
}
